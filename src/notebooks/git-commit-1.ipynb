{
 "cells": [
  {
   "cell_type": "markdown",
   "metadata": {},
   "source": [
    "# Preserving changes with `git commit`\n",
    "\n",
    "## Recap\n",
    "\n",
    "In the [last lesson](git-add1.ipynb) we saw how to track files with `git add`. Additionally, we saw that `git add` uses the file `.git/index` to track files. However, we still haven't told Git to store these files in its database. To do this we use `git commit`, the object of this lesson.\n",
    "\n",
    "## Learing Objectives\n",
    "\n",
    "By the end of this lesson you will be able to\n",
    "\n",
    "* Use `git commit` to store tracked changes to Git's database\n",
    "* Discuss what part of the `.git/` directory is changed by `git commit`\n",
    "* Learn to view commit history with `git log`"
   ]
  },
  {
   "cell_type": "markdown",
   "metadata": {},
   "source": [
    "## The basics of Git Commit\n",
    "\n",
    "Git commit let's us _save_ content to the Git database. Each commit is essentially a frozen moment in time that we want to hold on to for later viewing. The commit is the heart and soul of using Git and as we will see there are some best-practices that will make our lives as commit-wielding rebase-applying conflict-fighting Git-ninjas easy.\n",
    "\n",
    "So without further adieu, let's get ourselves setup!\n",
    "\n",
    "## Setup\n",
    "To get set up for the exercise, go ahead and run the following two cells. The first cell is a horrible hack to get the Python path working properly while the second cell gets us a handy dandy Git repository"
   ]
  },
  {
   "cell_type": "code",
   "execution_count": null,
   "metadata": {},
   "outputs": [],
   "source": [
    "# First a dumb hacky workaround...\n",
    "import sys\n",
    "import os\n",
    "from os import path as osp\n",
    "sys.path.append(osp.dirname(os.getcwd()))  # Set CWD to the root of our project"
   ]
  },
  {
   "cell_type": "code",
   "execution_count": null,
   "metadata": {},
   "outputs": [],
   "source": [
    "# Begin normal session\n",
    "from gitutil.session import GitSession\n",
    "from snapshots import GitDirLog\n",
    "import code\n",
    "\n",
    "# Directory with the lesson we'll be using\n",
    "lesson = '../lessons/basics/commit1/'\n",
    "\n",
    "# Some scripts to help us set up our repository\n",
    "scripts =    { 'add':    lesson + 'scripts/add.gcs'\n",
    "             , 'append': lesson + 'scripts/append.gcs'\n",
    "             , 'touch':  lesson + 'scripts/touch.gcs'\n",
    "             , 'setup':  lesson + 'scripts/setup.gcs'\n",
    "             , 'multi-commits': lesson + 'scripts/multi-commits.gcs'\n",
    "             }\n",
    "\n",
    "# The session gives us a sandbox git session where we can mess around\n",
    "# without fear of messing anything up. We use scripts to set up basic\n",
    "# repositories.\n",
    "session = GitSession()\n",
    "\n",
    "def run_script(s):\n",
    "    script = scripts[s]\n",
    "    session.run_script(script)\n",
    "\n",
    "# log will hold the history of the .git directory. For more information,\n",
    "# check out the git-basics notebook.\n",
    "log = GitDirLog(session.dir() + \"/.git\")\n",
    "\n",
    "# snap() lets us take snapshots so we can review our history\n",
    "def snap(m='', verbose=True):\n",
    "    log.take_snapshot(m, verbose)\n",
    "\n",
    "# print the difference objects\n",
    "def print_diffs(start=0, end=-1):\n",
    "    log.print_diffs(start,end)\n",
    "\n",
    "run_script('setup')               # Setup the repo\n",
    "snap('Created and added a file')  # Take a snapshot\n",
    "\n",
    "print(\"=\" * 80)\n",
    "print(\"TEMPORARY SESSION IN {}\".format(session.dir())) \n",
    "print(\"=\" * 80)"
   ]
  },
  {
   "cell_type": "markdown",
   "metadata": {},
   "source": [
    "* `cd` to the above directory and look around. You should see a `.git` directory and an empty file `f1`. \n",
    "* Run a `git status`: `f1` has been added and is ready for commit.\n",
    "* Run `git commit -m \"First commit\"`\n",
    "* Run a `git status`\n",
    "  - **Question:** What differnece do you see in the output of `git status`?\n",
    "  "
   ]
  },
  {
   "cell_type": "code",
   "execution_count": null,
   "metadata": {},
   "outputs": [],
   "source": [
    "snap('First commit')"
   ]
  },
  {
   "cell_type": "markdown",
   "metadata": {},
   "source": [
    "* Run the above cell to take a snapshot of the repository\n",
    "  - **Question:** How has the `.git` directory changed since we ran `git commit`?\n",
    "    - In the Difference Object, what new files and directories do you see?\n",
    "    - In the Difference Object, what files have been _modified_?\n",
    "\n",
    "\n",
    "### Some new files\n",
    "There are a number of new files that were created, including `.git/COMMIT_EDITMSG`, some entries in `.git/objects`, the `master` file in `.git/refs/heads` and some `log` files. \n",
    "\n",
    "#### The `COMMIT_EDITMSG` file\n",
    "This simply stores the most recent commit's edit message. But you probably guessed that already :)\n",
    "* **Exercise:** In your terminal run `cat .git/COMMIT_EDITMSG`. What do you see? Are you surprised? Why or why not? What did you have for breakfast? Can I have some? Are you still paying attention?\n",
    "\n",
    "#### The `HEAD` file\n",
    "\n",
    "We will touch this later but we should mention `HEAD` since much of what we do with Git is manipulate `HEAD`. As we move about in our repository `HEAD` records where we are. We will spend a considerable amount of time learning about this! \n",
    "\n",
    "#### The `objects` directory\n",
    "\n",
    "As we have mentioned, Git stores information in a database, and that database is stored in `.git/objects`. We'll be spending some time peeking into `objects` as we proceed through the lessons.\n",
    "\n",
    "* Run the following cell to generate a more robust commit history"
   ]
  },
  {
   "cell_type": "code",
   "execution_count": null,
   "metadata": {},
   "outputs": [],
   "source": [
    "run_script('multi-commits')     # Generate a more robust commit history"
   ]
  },
  {
   "cell_type": "markdown",
   "metadata": {},
   "source": [
    "* In your terminal, run `git log`. \n",
    "  - **Question:** What do you see in the output of `git log`? What do you think the entries represent?"
   ]
  },
  {
   "cell_type": "code",
   "execution_count": null,
   "metadata": {},
   "outputs": [],
   "source": [
    "session.cleanup()"
   ]
  },
  {
   "cell_type": "markdown",
   "metadata": {},
   "source": [
    "## Questions\n",
    "1. There is a big hash along the top of each commit. Where else have we seen giant hashes? Do you think these might be related? Investigate! What did you find?\n",
    "2. In the man pages for `git commit` (in your terminal, run `man git-commit`) under the **OPTIONS** section, what does the `--all` option do?\n",
    "    - Design an experiment to demonstrate what `git commit --all`. Take into account\n",
    "        - Untracked files\n",
    "        - Tracked but unmodified files\n",
    "        - Tracked and modified files\n",
    "    - What do you think the results will be? Record your hypotheses\n",
    "    - Run the experiment. \n",
    "        - Do the results match your hypotheses?\n",
    "            - If not, what was the misunderstanding?\n",
    "3. Run the following commands: `touch f3`, `git add f3`, `cat \"some random text\" >> f3`, and\n",
    " `git commit -m \"Another awesome commit\"`\n",
    "    \n",
    "    - What changes do you think will be committed?\n",
    "    - Run `git status` to check your guess. What conclusions can you draw from the results?"
   ]
  }
 ],
 "metadata": {
  "kernelspec": {
   "display_name": "Python 3",
   "language": "python",
   "name": "python3"
  },
  "language_info": {
   "codemirror_mode": {
    "name": "ipython",
    "version": 3
   },
   "file_extension": ".py",
   "mimetype": "text/x-python",
   "name": "python",
   "nbconvert_exporter": "python",
   "pygments_lexer": "ipython3",
   "version": "3.5.2"
  }
 },
 "nbformat": 4,
 "nbformat_minor": 2
}
