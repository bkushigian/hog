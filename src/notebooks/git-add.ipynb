{
 "cells": [
  {
   "cell_type": "markdown",
   "metadata": {},
   "source": [
    "# Git add\n",
    "\n",
    "To track a file in git we use the `add` command. First, let's get ourselves set up with a\n",
    "Hog session.\n",
    "\n",
    "## Setup\n",
    "\n",
    "To get set up for the exercise, go ahead and run the following cell. This just gets us\n",
    "set up and ready to explore some cool Git stuff."
   ]
  },
  {
   "cell_type": "code",
   "execution_count": null,
   "metadata": {},
   "outputs": [],
   "source": [
    "from gitutil.session import GitSession\n",
    "from snapshots import GitDirLog\n",
    "\n",
    "# The session gives us a sandbox git session where we can mess around\n",
    "# without fear of messing anything up. We use scripts to set up basic\n",
    "# repositories.\n",
    "session = GitSession() \n",
    "session.run_script('../gitutil/command_scripts/git-add.gc')\n",
    "\n",
    "# log will hold the history of the .git directory. For more information,\n",
    "# check out the git-basics notebook.\n",
    "log = GitDirLog(session.dir())\n",
    "\n",
    "# snap() lets us take snapshots so we can review our history\n",
    "def snap(m='', verbose=True):\n",
    "    log.take_snapshot(m, verbose)\n",
    "\n",
    "print(\"Temporary session in {}\".format(session.dir()))"
   ]
  },
  {
   "cell_type": "markdown",
   "metadata": {},
   "source": [
    "## The Lesson\n",
    "1. Note the file path above. This is where the temporary Git session is taking place. Open up a terminal\n",
    "   navigate there\n",
    "2. Once there, look around. There should be a file `f1` and a `.git` directory."
   ]
  },
  {
   "cell_type": "code",
   "execution_count": null,
   "metadata": {},
   "outputs": [],
   "source": [
    "snap()"
   ]
  },
  {
   "cell_type": "code",
   "execution_count": null,
   "metadata": {},
   "outputs": [],
   "source": [
    "session.cleanup()"
   ]
  }
 ],
 "metadata": {
  "kernelspec": {
   "display_name": "Python 3",
   "language": "python",
   "name": "python3"
  },
  "language_info": {
   "codemirror_mode": {
    "name": "ipython",
    "version": 3
   },
   "file_extension": ".py",
   "mimetype": "text/x-python",
   "name": "python",
   "nbconvert_exporter": "python",
   "pygments_lexer": "ipython3",
   "version": "3.5.2"
  }
 },
 "nbformat": 4,
 "nbformat_minor": 1
}
