{
 "cells": [
  {
   "cell_type": "markdown",
   "metadata": {},
   "source": [
    "#  `git add` --- A Second Take\n",
    "\n",
    "## Recap\n",
    "In the [last lesson](git-commit-1.ipynb) we saw that we could use the `git commit` command to store files we have added to the Git database. We also saw some weird behavior from `git add` in the third question. \n",
    "\n",
    "## Learning Objectives\n",
    "\n",
    "By the end of this lesson you will be able to:\n",
    "\n",
    "* Explain the difference between tracking files and tracking content\n",
    "* Explain why changes made after the last `git add` are not committed\n",
    "* Use options in `git add` to better control your commits"
   ]
  },
  {
   "cell_type": "code",
   "execution_count": null,
   "metadata": {},
   "outputs": [],
   "source": [
    "# First a dumb hacky workaround...\n",
    "import sys\n",
    "import os\n",
    "from os import path as osp\n",
    "sys.path.append(osp.dirname(os.getcwd()))  # Set CWD to the root of our project"
   ]
  },
  {
   "cell_type": "code",
   "execution_count": null,
   "metadata": {},
   "outputs": [],
   "source": [
    "# Begin normal session\n",
    "from gitutil.session import GitSession\n",
    "from snapshots import GitDirLog\n",
    "import code\n",
    "\n",
    "# Directory with the lesson we'll be using\n",
    "lesson = '../lessons/basics/add2/'\n",
    "\n",
    "# Some scripts to help us set up our repository\n",
    "scripts =   {'setup':    lesson + 'scripts/setup.gcs'}\n",
    "\n",
    "# The session gives us a sandbox git session where we can mess around\n",
    "# without fear of messing anything up. We use scripts to set up basic\n",
    "# repositories.\n",
    "session = GitSession()\n",
    "\n",
    "def run_script(s):\n",
    "    script = scripts[s]\n",
    "    session.run_script(script)\n",
    "\n",
    "# log will hold the history of the .git directory. For more information,\n",
    "# check out the git-basics notebook.\n",
    "log = GitDirLog(session.dir() + \"/.git\")\n",
    "\n",
    "# snap() lets us take snapshots so we can review our history\n",
    "def snap(m='', verbose=True):\n",
    "    log.take_snapshot(m, verbose)\n",
    "\n",
    "# print the difference objects\n",
    "def print_diffs(start=0, end=-1):\n",
    "    log.print_diffs(start,end)\n",
    "   "
   ]
  },
  {
   "cell_type": "code",
   "execution_count": null,
   "metadata": {
    "scrolled": false
   },
   "outputs": [],
   "source": [
    "run_script('setup')                                  # Setup the repo\n",
    "snap('Created and added a file; made some changes')  # Take a snapshot\n",
    "\n",
    "print(\"=\" * 80)\n",
    "print(\"TEMPORARY SESSION IN {}\".format(session.dir())) \n",
    "print(\"=\" * 80)"
   ]
  },
  {
   "cell_type": "markdown",
   "metadata": {},
   "source": [
    "## Tracking Content vs Tracking Files\n",
    "\n",
    "Consider the following command history (which you have run for you in the `setup` script above)\n",
    "\n",
    "```sh\n",
    "touch f1                         # Create a new file\n",
    "echo \"first line in f1\" >> f1    # Write to file\n",
    "git add f1                       # Add the file to the index\n",
    "echo \"second line in f1\" >> f1   # Write some more to file\n",
    "git commit -m \"First commit\"     # Commit the changes\n",
    "```\n",
    "\n",
    "Now if we were tracking the entire files all at once then our commit would capture not only the first line in `f1` but also the second line; by tracking files we would not be able to differentiate between. However if we were tracking _content_ then our commit should be able to capture only the first line and not the second line. \n",
    "\n",
    "* To find out which Git does run a `git status` - what does this tell you?\n",
    "\n",
    "It turns out Git tracks content and not files. This is _very_ useful but also messes up new Git users on a regular basis. \n",
    "\n",
    "* **Exercise:** Let's play a game! Pretend you are a Python interpreter and run the following code:\n",
    "\n",
    "```python\n",
    "for i in range(1000000):\n",
    "    print(\"Python tracks CONTENT not FILES.\")\n",
    "    print(\"This commonly confuses people new to Git.\")\n",
    "    print(\"However this does not confuse me!\")\n",
    "```\n",
    "\n"
   ]
  },
  {
   "cell_type": "code",
   "execution_count": null,
   "metadata": {},
   "outputs": [],
   "source": [
    "session.cleanup()"
   ]
  }
 ],
 "metadata": {
  "kernelspec": {
   "display_name": "Python 3",
   "language": "python",
   "name": "python3"
  },
  "language_info": {
   "codemirror_mode": {
    "name": "ipython",
    "version": 3
   },
   "file_extension": ".py",
   "mimetype": "text/x-python",
   "name": "python",
   "nbconvert_exporter": "python",
   "pygments_lexer": "ipython3",
   "version": "3.5.2"
  }
 },
 "nbformat": 4,
 "nbformat_minor": 2
}
