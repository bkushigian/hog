{
 "cells": [
  {
   "cell_type": "markdown",
   "metadata": {},
   "source": [
    "# Basics of Git\n",
    "\n",
    "## Git Basics\n",
    "\n",
    "Git is a Version Control System (VCS). It tracks changes to your code over time. It is a complicated system but once you get the hang of it, it stops seeming so scary. Let's dive in!\n",
    "\n",
    "## HOG -- A Higher Order Git\n",
    "\n",
    "Our goal here is to show you what's happening _under the hood_. In this first lesson we will lay out our learning objectives and touch briefly on some high level Git concepts.\n",
    "\n",
    "## Learning Objectives\n",
    "\n",
    "* Explain what Git is\n",
    "* Explain what a **Git repository** is\n",
    "* Give a use case for Git\n",
    "* Explain the difference between a _tracked_ and _untracked_ file\n",
    "* Explain what HOG does and how it can help\n",
    "\n",
    "## What is Git?\n",
    "Git is a Version Control System, or a VCS. A Version Control System basically takes snapshots of your work over time. This lets you:\n",
    "\n",
    "a. Go back to a working version if you mess up\n",
    "b. Work on multiple features at once\n",
    "c. Share work with colleagues and collaborators\n",
    "\n",
    "## What is a Git repository?\n",
    "To track your project over time, Git has to store this data somewhere. Git uses a **repository** to track data about your project over time. Git does this by creating a _hidden directory_ in the root of your project called `.git/`. As a user you will rarely ever need to look inside of this. However, to better learn how Git works we will be peeking under the hood.\n",
    "\n",
    "## A Use Case\n",
    "Alice is a programmer. Alice is currently developing the next great app. Alice brings on Bob, Charlie, and Deborah to work on her app. Unfortunately, they will all be working remotely and will have a hard time communicating and working together. Alice spins up a server and throws a Git repository on it, pushes her local work to the new remote repository, and gives Bob, Charlie, and Deborah access to push to and pull from the remote repo. Now they can all work on their own local versions of the same project and easily communicate their changes to each other. Alice for the win!!\n",
    "\n",
    "## Tracked versus Untracked Files\n",
    "By default Git does not track files at all. To track an untracked file we use the `git add` command, which we will see in the next lesson. Once a file is tracked we still need to tell Git when to update the history.\n",
    "\n",
    "For example, say I have a file `foo.py` that is untracked. I have created it and written some code in it but I still haven't told Git about it yet. To track it I can run `git add foo.py` and Git will take note of its existence and look at what is inside of the file and take note of that as well. Eventually we will want to run `git commit` which will store that content to our database so that we can come back to this version of the file whenever we want.\n",
    "\n",
    "So once a file is tracked, we still need to tell Git when to updates its internal database - it doesn't track every tiny change we make; rather, we tell it with the `add` command that we have done something that we want Git to know about.\n",
    "\n",
    "## How can I use HOG?\n",
    "There are a few ways that you can use this software. There are lessons built up using Jupyter notebooks that will build up repositories for you. Eventually, though, you will want to switch to the command line version of `hog` which gives you more flexibility.\n",
    "\n",
    "A typical session will involve having a terminal open to interact with the Git repo and either a Jupyter notebook or another terminal open to interface with `hog`. The basic work flow is to \n",
    "\n",
    "1. make a change to the repository (i.e., adding, commiting, etc)\n",
    "2. take a snapshot with `hog` to see how git stores the changes\n",
    "\n",
    "In general, the `hog` command line utility is useful for exploring on your own. Still, it is useful to start off with the Jupyter notebook lessons as these will get you up and running.\n",
    "\n",
    "Pleasant VCSing!\n",
    "\n",
    "## Further reading\n",
    "* [Git Add](git-add1.ipynb)"
   ]
  }
 ],
 "metadata": {
  "anaconda-cloud": {},
  "kernelspec": {
   "display_name": "Python 3",
   "language": "python",
   "name": "python3"
  },
  "language_info": {
   "codemirror_mode": {
    "name": "ipython",
    "version": 3
   },
   "file_extension": ".py",
   "mimetype": "text/x-python",
   "name": "python",
   "nbconvert_exporter": "python",
   "pygments_lexer": "ipython3",
   "version": "3.5.2"
  }
 },
 "nbformat": 4,
 "nbformat_minor": 1
}
