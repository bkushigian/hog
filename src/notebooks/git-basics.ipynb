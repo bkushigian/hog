{
 "cells": [
  {
   "cell_type": "markdown",
   "metadata": {},
   "source": [
    "# Introduction to HOG\n",
    "\n",
    "## Git Basics\n",
    "\n",
    "Git is a Version Control System (VCS). It tracks changes to your code over time. It is a complicated system but once you get the hang of it, it stops seeming so scary. Let's dive in!\n",
    "\n",
    "## HOG -- A Higher Order Git\n",
    "\n",
    "Our goal here is to show you what's happening _under the hood_. In this first lesson we will lay out our learning objectives and touch briefly on some high level Git concepts.\n",
    "\n",
    "## Learning Objectives\n",
    "\n",
    "* Explain what Git is\n",
    "* Explain what a **Git repository** is\n",
    "* Give a use case for Git\n",
    "* Explain the difference between a _tracked_ and _untracked_ file\n",
    "* Explain what HOG does and how it can help\n",
    "\n",
    "## What is Git?\n",
    "Git is a Version Control System, or a VCS. A Version Control System basically takes snapshots of your work over time. This lets you:\n",
    "\n",
    "a. Go back to a working version if you mess up\n",
    "b. Work on multiple features at once\n",
    "c. Share work with colleagues and collaborators\n",
    "\n",
    "## What is a Git repository?\n",
    "To track your project over time, Git has to store this data somewhere. Git uses a **repository** to track data about your project over time. Git does this by creating a _hidden directory_ in the root of your project called `.git/`. As a user you will rarely ever need to look inside of this\n"
   ]
  },
  {
   "cell_type": "markdown",
   "metadata": {},
   "source": []
  },
  {
   "cell_type": "code",
   "execution_count": null,
   "metadata": {},
   "outputs": [
    {
     "name": "stdout",
     "output_type": "stream",
     "text": [
      "Testing!\n"
     ]
    }
   ],
   "source": []
  }
 ],
 "metadata": {
  "kernelspec": {
   "display_name": "Python 3",
   "language": "python",
   "name": "python3"
  },
  "language_info": {
   "codemirror_mode": {
    "name": "ipython",
    "version": 3
   },
   "file_extension": ".py",
   "mimetype": "text/x-python",
   "name": "python",
   "nbconvert_exporter": "python",
   "pygments_lexer": "ipython3",
   "version": "3.5.2"
  }
 },
 "nbformat": 4,
 "nbformat_minor": 1
}
